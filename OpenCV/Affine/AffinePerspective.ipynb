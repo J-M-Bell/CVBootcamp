{
 "cells": [
  {
   "cell_type": "markdown",
   "metadata": {},
   "source": [
    "# Perspective Transformation "
   ]
  },
  {
   "cell_type": "code",
   "execution_count": null,
   "metadata": {},
   "outputs": [],
   "source": [
    "import cv2\n",
    "import numpy as np\n",
    "import matplotlib.pyplot as plt"
   ]
  },
  {
   "cell_type": "code",
   "execution_count": null,
   "metadata": {},
   "outputs": [],
   "source": [
    "image = cv2.imread(\"Resources/giraffe-Kenya.jpg\")\n",
    "image_rgb = cv2.cvtColor(image, cv2.COLOR_BGR2RGB)\n",
    "\n",
    "plt.imshow(image_rgb)"
   ]
  },
  {
   "cell_type": "code",
   "execution_count": null,
   "metadata": {},
   "outputs": [],
   "source": [
    "image_rgb.shape"
   ]
  },
  {
   "cell_type": "code",
   "execution_count": 1,
   "metadata": {},
   "outputs": [
    {
     "ename": "NameError",
     "evalue": "name 'image_rgb' is not defined",
     "output_type": "error",
     "traceback": [
      "\u001b[0;31m---------------------------------------------------------------------------\u001b[0m",
      "\u001b[0;31mNameError\u001b[0m                                 Traceback (most recent call last)",
      "Cell \u001b[0;32mIn[1], line 1\u001b[0m\n\u001b[0;32m----> 1\u001b[0m rows, cols, _ \u001b[38;5;241m=\u001b[39m \u001b[43mimage_rgb\u001b[49m\u001b[38;5;241m.\u001b[39mshape\n\u001b[1;32m      3\u001b[0m image_points \u001b[38;5;241m=\u001b[39m np\u001b[38;5;241m.\u001b[39mfloat32([[\u001b[38;5;241m50\u001b[39m,\u001b[38;5;241m50\u001b[39m], [cols\u001b[38;5;241m-\u001b[39m\u001b[38;5;241m50\u001b[39m, \u001b[38;5;241m50\u001b[39m], [\u001b[38;5;241m50\u001b[39m, rows\u001b[38;5;241m-\u001b[39m\u001b[38;5;241m50\u001b[39m], [cols\u001b[38;5;241m-\u001b[39m\u001b[38;5;241m50\u001b[39m, rows\u001b[38;5;241m-\u001b[39m\u001b[38;5;241m50\u001b[39m]])\n",
      "\u001b[0;31mNameError\u001b[0m: name 'image_rgb' is not defined"
     ]
    }
   ],
   "source": [
    "rows, cols, _ = image_rgb.shape\n",
    "\n",
    "input_points = np.float32([[50,50], [cols-50, 50], [50, rows-50], [cols-50, rows-50]])\n",
    "\n",
    "output_points = np.float32([[10,100], [cols-100, 50], [100, rows-10], [cols-50, rows-100]])\n",
    "\n",
    "'''\n",
    "Transformation matrix for perspective transformation\n",
    "\n",
    "3x3\n",
    "\n",
    "a, b, c\n",
    "d, e, f\n",
    "g, h, 1\n",
    "\n",
    "a,b,c is responsible for horizontal scaling, rotation, and translation\n",
    "d,e,f is responsible for vertical scaling, rotation, and translation\n",
    "g,h : Perspective components that account for new depth and skew\n",
    "\n",
    "'''\n",
    "\n",
    "M = cv2.getPerspectiveTransform(input_points, output_points)\n",
    "\n",
    "print(M)"
   ]
  },
  {
   "cell_type": "code",
   "execution_count": null,
   "metadata": {},
   "outputs": [],
   "source": [
    "perspective_image = cv2.warpPerspective(image_rgb, M, (cols,rows))\n",
    "\n",
    "plt.figure(figsize=(10,5))\n",
    "\n",
    "plt.subplot(1,2,1)\n",
    "plt.imshow(image_rgb)\n",
    "plt.title(\"Original Image\")\n",
    "plt.axis(\"off\")\n",
    "\n",
    "plt.subplot(1,2,2)\n",
    "plt.imshow(perspective_image)\n",
    "plt.title(\"Perspective Transformed Image\")\n",
    "plt.axis(\"off\")\n"
   ]
  },
  {
   "cell_type": "markdown",
   "metadata": {},
   "source": [
    "# Affine "
   ]
  },
  {
   "cell_type": "code",
   "execution_count": null,
   "metadata": {},
   "outputs": [],
   "source": [
    "input_points = np.float32([[50,50], [200, 50], [50, 200]])\n",
    "\n",
    "output_points = np.float32([[10,100], [200, 50], [100, 250]])\n",
    "\n",
    "M = cv2.getAffineTransform(input_points, output_points)\n",
    "\n",
    "affine_image = cv2.warpAffine(image_rgb, M, (cols,rows))\n",
    "\n",
    "plt.figure(figsize=(10,5))\n",
    "\n",
    "plt.subplot(1,2,1)\n",
    "plt.imshow(image_rgb)\n",
    "plt.title(\"Original Image\")\n",
    "plt.axis(\"off\")\n",
    "\n",
    "plt.subplot(1,2,2)\n",
    "plt.imshow(affine_image)\n",
    "plt.title(\"Affine Transformed Image\")\n",
    "plt.axis(\"off\")"
   ]
  },
  {
   "cell_type": "markdown",
   "metadata": {},
   "source": [
    "# Affine Rotation"
   ]
  },
  {
   "cell_type": "code",
   "execution_count": null,
   "metadata": {},
   "outputs": [],
   "source": [
    "angle = 45\n",
    "center = (cols // 2, rows // 2)\n",
    "scale = 1.0\n",
    "\n",
    "M = cv2.getRotationMatrix2D(center,angle,scale)\n",
    "\n",
    "rotated_image = cv2.warpAffine(image_rgb, M, (cols,rows))\n",
    "\n",
    "plt.figure(figsize=(10,5))\n",
    "\n",
    "plt.subplot(1,2,1)\n",
    "plt.imshow(image_rgb)\n",
    "plt.title(\"Original Image\")\n",
    "plt.axis(\"off\")\n",
    "\n",
    "plt.subplot(1,2,2)\n",
    "plt.imshow(rotated_image)\n",
    "plt.title(\"Affine rotated Image\")\n",
    "plt.axis(\"off\")"
   ]
  },
  {
   "cell_type": "markdown",
   "metadata": {},
   "source": [
    "# Shearing"
   ]
  },
  {
   "cell_type": "code",
   "execution_count": 1,
   "metadata": {},
   "outputs": [
    {
     "ename": "SyntaxError",
     "evalue": "'[' was never closed (1386349500.py, line 7)",
     "output_type": "error",
     "traceback": [
      "\u001b[0;36m  Cell \u001b[0;32mIn[1], line 7\u001b[0;36m\u001b[0m\n\u001b[0;31m    M = np.float32([[1, shear_x, 0],\u001b[0m\n\u001b[0m                   ^\u001b[0m\n\u001b[0;31mSyntaxError\u001b[0m\u001b[0;31m:\u001b[0m '[' was never closed\n"
     ]
    }
   ],
   "source": [
    "angle = 45\n",
    "center = (cols // 2, rows // 2)\n",
    "scale = 1.0\n",
    "\n",
    "shear_x, shear_y = 0.5, 0\n",
    "\n",
    "M = np.float32([[1, shear_x, 0],\n",
    "                [shear_y, 1, 0]])\n",
    "\n",
    "sheared_image = cv2.warpAffine(image_rgb, M, (cols*2,rows))\n",
    "\n",
    "plt.figure(figsize=(10,5))\n",
    "\n",
    "plt.subplot(1,2,1)\n",
    "plt.imshow(image_rgb)\n",
    "plt.title(\"Original Image\")\n",
    "plt.axis(\"off\")\n",
    "\n",
    "plt.subplot(1,2,2)\n",
    "plt.imshow(sheared_image)\n",
    "plt.title(\"Sheared Image\")\n",
    "plt.axis(\"off\")"
   ]
  },
  {
   "cell_type": "markdown",
   "metadata": {},
   "source": [
    "# Translation"
   ]
  },
  {
   "cell_type": "code",
   "execution_count": null,
   "metadata": {},
   "outputs": [],
   "source": [
    "tx, ty = 200, 300\n",
    "\n",
    "M = np.float32([[1, 0, tx],\n",
    "                [0, 1, ty]])\n",
    "\n",
    "translated_image = cv2.warpAffine(image_rgb, M, (cols,rows))\n",
    "\n",
    "plt.figure(figsize=(10,5))\n",
    "\n",
    "plt.subplot(1,2,1)\n",
    "plt.imshow(image_rgb)\n",
    "plt.title(\"Original Image\")\n",
    "plt.axis(\"off\")\n",
    "\n",
    "plt.subplot(1,2,2)\n",
    "plt.imshow(translated_image)\n",
    "plt.title(\"Translated Image\")\n",
    "plt.axis(\"off\")"
   ]
  }
 ],
 "metadata": {
  "kernelspec": {
   "display_name": "Python 3 (ipykernel)",
   "language": "python",
   "name": "python3"
  },
  "language_info": {
   "codemirror_mode": {
    "name": "ipython",
    "version": 3
   },
   "file_extension": ".py",
   "mimetype": "text/x-python",
   "name": "python",
   "nbconvert_exporter": "python",
   "pygments_lexer": "ipython3",
   "version": "3.11.0"
  }
 },
 "nbformat": 4,
 "nbformat_minor": 4
}

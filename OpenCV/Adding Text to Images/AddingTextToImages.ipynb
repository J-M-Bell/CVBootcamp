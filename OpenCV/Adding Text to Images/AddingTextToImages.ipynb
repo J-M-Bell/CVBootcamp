{
 "cells": [
  {
   "cell_type": "code",
   "execution_count": null,
   "metadata": {},
   "outputs": [],
   "source": [
    "import cv2\n",
    "import matplotlib.pyplot as plt\n",
    "import numpy as np"
   ]
  },
  {
   "cell_type": "code",
   "execution_count": null,
   "metadata": {},
   "outputs": [],
   "source": [
    "height, width = 500, 700\n",
    "sky_blue = (255, 127, 0)\n",
    "canvas = np.full((height,width,3), sky_blue, dtype=np.uint8)\n",
    "canvas = cv2.cvtColor(canvas, cv2.COLOR_BGR2RGB)\n",
    "\n",
    "plt.imshow(canvas)"
   ]
  },
  {
   "cell_type": "code",
   "execution_count": null,
   "metadata": {},
   "outputs": [],
   "source": [
    "text = \"Hello, OpenCV\"\n",
    "font = cv2.FONT_HERSHEY_COMPLEX\n",
    "\n",
    "# coordinate for the bottom left corner of the text\n",
    "org = (50,100)\n",
    "\n",
    "font_scale = 1.5\n",
    "color = (255,255,255)\n",
    "thickness = 2\n",
    "\n",
    "cv2.putText(canvas, text, org, font, font_scale, color, thickness, cv2.LINE_AA)\n",
    "\n",
    "plt.imshow(canvas)"
   ]
  },
  {
   "cell_type": "code",
   "execution_count": 2,
   "metadata": {},
   "outputs": [
    {
     "ename": "NameError",
     "evalue": "name 'np' is not defined",
     "output_type": "error",
     "traceback": [
      "\u001b[0;31m---------------------------------------------------------------------------\u001b[0m",
      "\u001b[0;31mNameError\u001b[0m                                 Traceback (most recent call last)",
      "Cell \u001b[0;32mIn[2], line 1\u001b[0m\n\u001b[0;32m----> 1\u001b[0m canvas \u001b[38;5;241m=\u001b[39m \u001b[43mnp\u001b[49m\u001b[38;5;241m.\u001b[39mfull((height,width,\u001b[38;5;241m3\u001b[39m), sky_blue, dtype\u001b[38;5;241m=\u001b[39mnp\u001b[38;5;241m.\u001b[39muint8)\n\u001b[1;32m      2\u001b[0m canvas \u001b[38;5;241m=\u001b[39m cv2\u001b[38;5;241m.\u001b[39mcvtColor(canvas, cv2\u001b[38;5;241m.\u001b[39mCOLOR_BGR2RGB)\n\u001b[1;32m      4\u001b[0m fonts \u001b[38;5;241m=\u001b[39m [\n\u001b[1;32m      5\u001b[0m     cv2\u001b[38;5;241m.\u001b[39mFONT_HERSHEY_SIMPLEX,\n\u001b[1;32m      6\u001b[0m     cv2\u001b[38;5;241m.\u001b[39mFONT_HERSHEY_COMPLEX,\n\u001b[0;32m   (...)\u001b[0m\n\u001b[1;32m      9\u001b[0m     cv2\u001b[38;5;241m.\u001b[39mFONT_HERSHEY_COMPLEX_SMALL\n\u001b[1;32m     10\u001b[0m ]\n",
      "\u001b[0;31mNameError\u001b[0m: name 'np' is not defined"
     ]
    }
   ],
   "source": [
    "canvas = np.full((height,width,3), sky_blue, dtype=np.uint8)\n",
    "canvas = cv2.cvtColor(canvas, cv2.COLOR_BGR2RGB)\n",
    "\n",
    "fonts = [\n",
    "    cv2.FONT_HERSHEY_SIMPLEX,\n",
    "    cv2.FONT_HERSHEY_COMPLEX,\n",
    "    cv2.FONT_HERSHEY_SCRIPT_SIMPLEX,\n",
    "    cv2.FONT_HERSHEY_SCRIPT_COMPLEX,\n",
    "    cv2.FONT_HERSHEY_COMPLEX_SMALL\n",
    "]\n",
    "\n",
    "y_offset = 50\n",
    "for i, font in enumerate(fonts):\n",
    "    text = f\"Font {i+1}\"\n",
    "    cv2.putText(canvas, text, (50,y_offset), font, 1, (0,0,255), 2, cv2.LINE_AA)\n",
    "    y_offset+=50\n",
    "\n",
    "plt.imshow(canvas)"
   ]
  },
  {
   "cell_type": "markdown",
   "metadata": {},
   "source": [
    "# Font Size and Thickness"
   ]
  },
  {
   "cell_type": "code",
   "execution_count": null,
   "metadata": {},
   "outputs": [],
   "source": [
    "canvas = np.full((height,width,3), sky_blue, dtype=np.uint8)\n",
    "canvas = cv2.cvtColor(canvas, cv2.COLOR_BGR2RGB)\n",
    "\n",
    "styles = [\n",
    "    (1,2),\n",
    "    (2,2),\n",
    "    (1,4),\n",
    "    (2,4),\n",
    "]\n",
    "\n",
    "y_offset = 50\n",
    "for font_scale, thickness in styles:\n",
    "    text = f\"Font {i+1}\"\n",
    "    cv2.putText(canvas, text, (50,y_offset), cv2.FONT_HERSHEY_SIMPLEX, font_scale, (0,0,255), thickness, cv2.LINE_AA)\n",
    "    y_offset+=50\n",
    "\n",
    "plt.imshow(canvas)"
   ]
  }
 ],
 "metadata": {
  "kernelspec": {
   "display_name": "Python 3 (ipykernel)",
   "language": "python",
   "name": "python3"
  },
  "language_info": {
   "codemirror_mode": {
    "name": "ipython",
    "version": 3
   },
   "file_extension": ".py",
   "mimetype": "text/x-python",
   "name": "python",
   "nbconvert_exporter": "python",
   "pygments_lexer": "ipython3",
   "version": "3.11.0"
  }
 },
 "nbformat": 4,
 "nbformat_minor": 4
}

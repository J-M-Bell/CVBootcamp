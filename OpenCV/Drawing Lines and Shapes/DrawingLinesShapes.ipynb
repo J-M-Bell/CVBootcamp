{
 "cells": [
  {
   "cell_type": "code",
   "execution_count": null,
   "metadata": {},
   "outputs": [],
   "source": [
    "import cv2\n",
    "import matplotlib.pyplot as plt\n",
    "import numpy"
   ]
  },
  {
   "cell_type": "code",
   "execution_count": null,
   "metadata": {},
   "outputs": [],
   "source": [
    "height, width = 500, 700\n",
    "blue = (255, 127, 0)\n",
    "canvas = np.full((height, width, 3), blue, dtype=np.uint8)\n",
    "\n",
    "plt.imshow(cv2.cvtColor(canvas, cv2.COLOR_BGR2RGB))"
   ]
  },
  {
   "cell_type": "markdown",
   "metadata": {},
   "source": [
    "# Draw a line"
   ]
  },
  {
   "cell_type": "code",
   "execution_count": null,
   "metadata": {},
   "outputs": [],
   "source": [
    "cv2.line(canvas, (50,50), (650,450), (255,225,255), 1)\n",
    "\n",
    "plt.imshow(cv2.cvtColor(canvas, cv2.COLOR_BGR2RGB))"
   ]
  },
  {
   "cell_type": "markdown",
   "metadata": {},
   "source": [
    "# Draw a rectangle"
   ]
  },
  {
   "cell_type": "code",
   "execution_count": null,
   "metadata": {},
   "outputs": [],
   "source": [
    "cv2.rectangle(canvas, (100,100), (300,300), (0,225,255), -1)\n",
    "\n",
    "plt.imshow(cv2.cvtColor(canvas, cv2.COLOR_BGR2RGB))"
   ]
  },
  {
   "cell_type": "markdown",
   "metadata": {},
   "source": [
    "# Draw a circle"
   ]
  },
  {
   "cell_type": "code",
   "execution_count": null,
   "metadata": {},
   "outputs": [],
   "source": [
    "cv2.circle(canvas, (500,150), 100, (0,0,255), 5)\n",
    "\n",
    "plt.imshow(cv2.cvtColor(canvas, cv2.COLOR_BGR2RGB))"
   ]
  },
  {
   "cell_type": "markdown",
   "metadata": {},
   "source": [
    "# Draw an Ellipse"
   ]
  },
  {
   "cell_type": "code",
   "execution_count": null,
   "metadata": {},
   "outputs": [],
   "source": [
    "cv2.ellipse(canvas, (350,350), (100,50), 45, 0, 360, (0,255,0), 3)\n",
    "\n",
    "plt.imshow(cv2.cvtColor(canvas, cv2.COLOR_BGR2RGB))"
   ]
  },
  {
   "cell_type": "markdown",
   "metadata": {},
   "source": [
    "# Draw a polygon"
   ]
  },
  {
   "cell_type": "code",
   "execution_count": 1,
   "metadata": {},
   "outputs": [
    {
     "ename": "NameError",
     "evalue": "name 'np' is not defined",
     "output_type": "error",
     "traceback": [
      "\u001b[0;31m---------------------------------------------------------------------------\u001b[0m",
      "\u001b[0;31mNameError\u001b[0m                                 Traceback (most recent call last)",
      "Cell \u001b[0;32mIn[1], line 3\u001b[0m\n\u001b[1;32m      1\u001b[0m \u001b[38;5;66;03m# Xn, Yn, where n>2\u001b[39;00m\n\u001b[0;32m----> 3\u001b[0m points \u001b[38;5;241m=\u001b[39m \u001b[43mnp\u001b[49m\u001b[38;5;241m.\u001b[39marray([[\u001b[38;5;241m150\u001b[39m,\u001b[38;5;241m400\u001b[39m],[\u001b[38;5;241m300\u001b[39m,\u001b[38;5;241m400\u001b[39m],[\u001b[38;5;241m225\u001b[39m,\u001b[38;5;241m300\u001b[39m]], np\u001b[38;5;241m.\u001b[39mint32)\n\u001b[1;32m      4\u001b[0m new_reshaped_point \u001b[38;5;241m=\u001b[39m points\u001b[38;5;241m.\u001b[39mreshape((\u001b[38;5;241m-\u001b[39m\u001b[38;5;241m1\u001b[39m,\u001b[38;5;241m1\u001b[39m,\u001b[38;5;241m2\u001b[39m))\n\u001b[1;32m      6\u001b[0m \u001b[38;5;28mprint\u001b[39m(new_reshaped_point)\n",
      "\u001b[0;31mNameError\u001b[0m: name 'np' is not defined"
     ]
    }
   ],
   "source": [
    "# Xn, Yn, where n>2\n",
    "\n",
    "points = np.array([[150,400],[300,400],[225,300]], np.int32)\n",
    "new_reshaped_point = points.reshape((-1,1,2))\n",
    "\n",
    "print(new_reshaped_point)\n",
    "\n",
    "cv2.polylines(canvas, [new_reshaped_point], False, (225,0,255), 3)\n",
    "\n",
    "plt.imshow(cv2.cvtColor(canvas, cv2.COLOR_BGR2RGB))"
   ]
  },
  {
   "cell_type": "code",
   "execution_count": null,
   "metadata": {},
   "outputs": [],
   "source": []
  }
 ],
 "metadata": {
  "kernelspec": {
   "display_name": "Python 3 (ipykernel)",
   "language": "python",
   "name": "python3"
  },
  "language_info": {
   "codemirror_mode": {
    "name": "ipython",
    "version": 3
   },
   "file_extension": ".py",
   "mimetype": "text/x-python",
   "name": "python",
   "nbconvert_exporter": "python",
   "pygments_lexer": "ipython3",
   "version": "3.11.0"
  }
 },
 "nbformat": 4,
 "nbformat_minor": 4
}

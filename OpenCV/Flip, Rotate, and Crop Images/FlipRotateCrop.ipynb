{
 "cells": [
  {
   "cell_type": "code",
   "execution_count": 1,
   "metadata": {},
   "outputs": [],
   "source": [
    "import cv2\n",
    "import matplotlib.pyplot as plt"
   ]
  },
  {
   "cell_type": "code",
   "execution_count": null,
   "metadata": {},
   "outputs": [],
   "source": [
    "image = cv2.imread(\"Resources/giraffe-Kenya.jpg\")\n",
    "print(image)"
   ]
  },
  {
   "cell_type": "code",
   "execution_count": null,
   "metadata": {},
   "outputs": [],
   "source": [
    "image_rgb = cv2.cvtColor(image, cv2.COLOR_BGR2RGB)"
   ]
  },
  {
   "cell_type": "markdown",
   "metadata": {},
   "source": [
    "# Flip"
   ]
  },
  {
   "cell_type": "code",
   "execution_count": 3,
   "metadata": {},
   "outputs": [
    {
     "ename": "NameError",
     "evalue": "name 'cv2' is not defined",
     "output_type": "error",
     "traceback": [
      "\u001b[0;31m---------------------------------------------------------------------------\u001b[0m",
      "\u001b[0;31mNameError\u001b[0m                                 Traceback (most recent call last)",
      "Cell \u001b[0;32mIn[3], line 5\u001b[0m\n\u001b[1;32m      1\u001b[0m \u001b[38;5;66;03m# 1 --> horizontal\u001b[39;00m\n\u001b[1;32m      2\u001b[0m \u001b[38;5;66;03m# 0 --> vertical\u001b[39;00m\n\u001b[1;32m      3\u001b[0m \u001b[38;5;66;03m# -1 --> Both axis\u001b[39;00m\n\u001b[0;32m----> 5\u001b[0m flip_horizontal \u001b[38;5;241m=\u001b[39m \u001b[43mcv2\u001b[49m\u001b[38;5;241m.\u001b[39mflip(image, \u001b[38;5;241m1\u001b[39m)\n\u001b[1;32m      6\u001b[0m flip_vertical \u001b[38;5;241m=\u001b[39m cv2\u001b[38;5;241m.\u001b[39mflip(image, \u001b[38;5;241m0\u001b[39m)\n\u001b[1;32m      7\u001b[0m flip_both \u001b[38;5;241m=\u001b[39m cv2\u001b[38;5;241m.\u001b[39mflip(image, \u001b[38;5;241m-\u001b[39m\u001b[38;5;241m1\u001b[39m)\n",
      "\u001b[0;31mNameError\u001b[0m: name 'cv2' is not defined"
     ]
    }
   ],
   "source": [
    "# 1 --> horizontal\n",
    "# 0 --> vertical\n",
    "# -1 --> Both axis\n",
    "\n",
    "flip_horizontal = cv2.flip(image, 1)\n",
    "flip_vertical = cv2.flip(image, 0)\n",
    "flip_both = cv2.flip(image, -1)\n",
    "\n",
    "titles = [\"Original image\", \n",
    "          \"Horizontal Flip\", \n",
    "          \"Vertical Flip\", \n",
    "          \"Flip Both Axis\"]\n",
    "images = [image_rgb,\n",
    "          cv2.cvtColor(flip_horizontal, cv2.COLOR_BGR2RGB),\n",
    "          cv2.cvtColor(flip_vertical, cv2.COLOR_BGR2RGB),\n",
    "          cv2.cvtColor(flip_both, cv2.COLOR_BGR2RGB)]\n",
    "\n",
    "plt.figure(figsize=(12,8))\n",
    "for i in range(4):\n",
    "    plt.subplot(2,2,i*1)\n",
    "    plt.imshow(images[i])\n",
    "    plt.title(titles[i])\n",
    "    plt.axis(\"Off\")\n",
    "plt.tight_layout()\n",
    "plt.show()"
   ]
  },
  {
   "cell_type": "markdown",
   "metadata": {},
   "source": [
    "# Rotate"
   ]
  },
  {
   "cell_type": "code",
   "execution_count": null,
   "metadata": {},
   "outputs": [],
   "source": [
    "rotate_90_clockwise = cv2.rotate(image_rgb, cv2.ROTATE_90_CLOCKWISE)\n",
    "rotate_90_counterclockwise = cv2.rotate(image_rgb, cv2.ROTATE_90_COUNTERCLOCKWISE)\n",
    "rotate_180 = cv2.rotate(image_rgb, cv2.ROTATE_180)\n",
    "\n",
    "titles = [\"Original image\", \n",
    "          \"Horizontal Flip\", \n",
    "          \"Vertical Flip\", \n",
    "          \"Flip Both Axis\"]\n",
    "images = [image_rgb,\n",
    "          rotate_90_clockwise,\n",
    "          rotate_90_counterclockwise,\n",
    "          rotate_180]\n",
    "\n",
    "plt.figure(figsize=(12,8))\n",
    "for i in range(4):\n",
    "    plt.subplot(2,2,i*1)\n",
    "    plt.imshow(images[i])\n",
    "    plt.title(titles[i])\n",
    "    plt.axis(\"Off\")\n",
    "plt.tight_layout()\n",
    "plt.show()"
   ]
  },
  {
   "cell_type": "markdown",
   "metadata": {},
   "source": [
    "# Crop an image"
   ]
  },
  {
   "cell_type": "code",
   "execution_count": null,
   "metadata": {},
   "outputs": [],
   "source": [
    "x_start, y_start = 400,300\n",
    "x_end, y_end = 800,900\n",
    "\n",
    "cropped_image = image_rgb(y_start:y_end, x_start:x_end)\n",
    "\n",
    "plt.figure(figsize=(8,4))\n",
    "\n",
    "plt.subplot(1,2,1)\n",
    "plt.imshow(image_rgb)\n",
    "plt.title(\"Original image\")\n",
    "plt.axis(\"Off\")\n",
    "\n",
    "plt.subplot(1,2,2)\n",
    "plt.imshow(cropped_image)\n",
    "plt.title(\"Cropped image\")\n",
    "plt.axis(\"Off\")\n",
    "\n",
    "plt.tight_layout()\n",
    "plt.show()"
   ]
  }
 ],
 "metadata": {
  "kernelspec": {
   "display_name": "Python 3 (ipykernel)",
   "language": "python",
   "name": "python3"
  },
  "language_info": {
   "codemirror_mode": {
    "name": "ipython",
    "version": 3
   },
   "file_extension": ".py",
   "mimetype": "text/x-python",
   "name": "python",
   "nbconvert_exporter": "python",
   "pygments_lexer": "ipython3",
   "version": "3.11.0"
  }
 },
 "nbformat": 4,
 "nbformat_minor": 4
}

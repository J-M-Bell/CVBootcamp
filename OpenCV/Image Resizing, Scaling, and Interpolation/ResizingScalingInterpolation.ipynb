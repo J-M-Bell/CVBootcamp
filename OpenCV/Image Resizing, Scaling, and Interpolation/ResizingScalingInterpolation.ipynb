{
 "cells": [
  {
   "cell_type": "code",
   "execution_count": null,
   "metadata": {},
   "outputs": [],
   "source": [
    "import cv2\n",
    "import matplotlib.pyplot as plt"
   ]
  },
  {
   "cell_type": "code",
   "execution_count": null,
   "metadata": {},
   "outputs": [],
   "source": [
    "image = cv2.imread(\"Resources/giraffe-Kenya.jpg\")"
   ]
  },
  {
   "cell_type": "code",
   "execution_count": null,
   "metadata": {},
   "outputs": [],
   "source": [
    "image_rgb = cv2.cvtColor(image, cv2.COLOR_BGR2RGB)"
   ]
  },
  {
   "cell_type": "code",
   "execution_count": null,
   "metadata": {},
   "outputs": [],
   "source": [
    "plt.imshow(image_rgb)"
   ]
  },
  {
   "cell_type": "markdown",
   "metadata": {},
   "source": [
    "# Image Resizing"
   ]
  },
  {
   "cell_type": "code",
   "execution_count": null,
   "metadata": {},
   "outputs": [],
   "source": [
    "print(image_rgb.shape)"
   ]
  },
  {
   "cell_type": "code",
   "execution_count": null,
   "metadata": {},
   "outputs": [],
   "source": [
    "new_height, new_width = 400, 400\n",
    "\n",
    "resized_image = cv2.resize(image_rgb, (new_height, new_width))\n",
    "\n",
    "plt.imshow(resized_image)"
   ]
  },
  {
   "cell_type": "markdown",
   "metadata": {},
   "source": [
    "# Image Scaling"
   ]
  },
  {
   "cell_type": "code",
   "execution_count": null,
   "metadata": {},
   "outputs": [],
   "source": [
    "scale_percentage = 50\n",
    "s_height = int(image_rgb.shape[0] * scale_percentage / 100)\n",
    "s_width = int(image_rgb.shape[1] * scale_percentage / 100)\n",
    "\n",
    "scaled_image = cv2.resize(image_rgb, (s_height, s_width), interpolation=cv2.INTER_AREA)\n",
    "\n",
    "print(scaled_image.shape)\n",
    "\n",
    "plt.imshow(scaled_image)\n",
    "plt.title(\"Scaled Image\")"
   ]
  },
  {
   "cell_type": "markdown",
   "metadata": {},
   "source": [
    "# Interpolation"
   ]
  },
  {
   "cell_type": "code",
   "execution_count": null,
   "metadata": {},
   "outputs": [],
   "source": [
    "# image_rgb = cv2.cvtColor(image, cb2.COLOR_BGR2RGB)\n",
    "\n",
    "resize_height = 600\n",
    "resize_width = 600\n",
    "\n",
    "# interpolation methods\n",
    "methods = {\n",
    "    'Nearest' : cv2.INTER_NEAREST,\n",
    "    'Linear' : cv2.INTER_LINEAR,\n",
    "    'Cubic' : cv2.INTER_CUBIC,\n",
    "    'Area' : cv2.INTER_AREA,\n",
    "    'Lanczos4' : cv2.INTER_LANCZOS4\n",
    "}\n",
    "\n",
    "resized_images = {}\n",
    "for name, method in methods.items():\n",
    "    resized_images[name] = cv2.resize(image_rgb, (resize_height, resize_width), interpolation=method)\n",
    "    cv2.imwrite(f\"./{name}.jpg\", resized_images[names])\n",
    "\n",
    "plt.figure(figsize=(12, 8))\n",
    "\n",
    "plt.subplot(2,3,1)\n",
    "plt.imshow(image_rgb)\n",
    "plt.title(\"Original\")\n",
    "plt.axis('off')\n",
    "\n",
    "for i, (name, resized_image) in enumerate(resized_images.items(), start=2):\n",
    "    plt.subplot(2,3,i)\n",
    "    plt.imshow(resized_image)\n",
    "    plt.title(name)\n",
    "    plt.axis('off')\n",
    "\n",
    "plt.tight_layout()\n",
    "plt.show()"
   ]
  },
  {
   "cell_type": "code",
   "execution_count": null,
   "metadata": {},
   "outputs": [],
   "source": [
    "# image_rgb = cv2.cvtColor(image, cb2.COLOR_BGR2RGB)\n",
    "\n",
    "resize_height = 600\n",
    "resize_width = 600\n",
    "\n",
    "image_rgb_resized = cv2.resize(image_rgb, (100, 100))\n",
    "\n",
    "# interpolation methods\n",
    "methods = {\n",
    "    'Nearest' : cv2.INTER_NEAREST,\n",
    "    'Linear' : cv2.INTER_LINEAR,\n",
    "    'Cubic' : cv2.INTER_CUBIC,\n",
    "    'Area' : cv2.INTER_AREA,\n",
    "    'Lanczos4' : cv2.INTER_LANCZOS4\n",
    "}\n",
    "\n",
    "resized_images = {}\n",
    "for name, method in methods.items():\n",
    "    resized_images[name] = cv2.resize(image_rgb_resized, (resize_height, resize_width), interpolation=method)\n",
    "    cv2.imwrite(f\"./{name}.jpg\", resized_images[names])\n",
    "\n",
    "plt.figure(figsize=(12, 8))\n",
    "\n",
    "plt.subplot(2,3,1)\n",
    "plt.imshow(image_rgb_resized)\n",
    "plt.title(\"Original\")\n",
    "plt.axis('off')\n",
    "\n",
    "for i, (name, resized_image) in enumerate(resized_images.items(), start=2):\n",
    "    plt.subplot(2,3,i)\n",
    "    plt.imshow(resized_image)\n",
    "    plt.title(name)\n",
    "    plt.axis('off')\n",
    "\n",
    "plt.tight_layout()\n",
    "plt.show()"
   ]
  }
 ],
 "metadata": {
  "kernelspec": {
   "display_name": "Python 3 (ipykernel)",
   "language": "python",
   "name": "python3"
  },
  "language_info": {
   "codemirror_mode": {
    "name": "ipython",
    "version": 3
   },
   "file_extension": ".py",
   "mimetype": "text/x-python",
   "name": "python",
   "nbconvert_exporter": "python",
   "pygments_lexer": "ipython3",
   "version": "3.11.0"
  }
 },
 "nbformat": 4,
 "nbformat_minor": 4
}
